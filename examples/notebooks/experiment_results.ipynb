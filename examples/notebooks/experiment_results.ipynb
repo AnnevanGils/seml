{
 "cells": [
  {
   "cell_type": "code",
   "execution_count": 1,
   "metadata": {},
   "outputs": [],
   "source": [
    "import seml\n",
    "import pandas as pd\n",
    "from matplotlib import pyplot as plt"
   ]
  },
  {
   "cell_type": "code",
   "execution_count": 2,
   "metadata": {
    "tags": []
   },
   "outputs": [
    {
     "output_type": "display_data",
     "data": {
      "text/plain": "HBox(children=(FloatProgress(value=0.0, max=11.0), HTML(value='')))",
      "application/vnd.jupyter.widget-view+json": {
       "version_major": 2,
       "version_minor": 0,
       "model_id": "4d84aecfd8bf466b96729d030104a77c"
      }
     },
     "metadata": {}
    },
    {
     "output_type": "stream",
     "name": "stdout",
     "text": "\n"
    },
    {
     "output_type": "display_data",
     "data": {
      "text/plain": "HBox(children=(FloatProgress(value=0.0, max=11.0), HTML(value='')))",
      "application/vnd.jupyter.widget-view+json": {
       "version_major": 2,
       "version_minor": 0,
       "model_id": "0916d1d813a24a038d1471a793bd4812"
      }
     },
     "metadata": {}
    },
    {
     "output_type": "stream",
     "name": "stdout",
     "text": "\n"
    }
   ],
   "source": [
    "results = seml.get_results('seml_example', to_data_frame=True)"
   ]
  },
  {
   "cell_type": "code",
   "execution_count": 3,
   "metadata": {},
   "outputs": [
    {
     "output_type": "execute_result",
     "data": {
      "text/plain": "   _id   config.dataset config.db_collection  config.display_step  \\\n0    1  small_dataset_1         seml_example                   25   \n1    2  small_dataset_1         seml_example                   25   \n2    4  small_dataset_1         seml_example                   25   \n3    5  small_dataset_1         seml_example                   25   \n4    6  small_dataset_1         seml_example                   25   \n\n  config.hidden_sizes  config.keep_prob  config.learning_rate  \\\n0                [16]          0.740696               0.00001   \n1                [16]          0.746743               0.00001   \n2            [32, 16]          0.740696               0.00001   \n3                [16]          0.311091               0.00001   \n4            [32, 16]          0.746743               0.00001   \n\n   config.max_epochs  config.overwrite  config.patience  config.reg_scale  \\\n0                334                 1               10      1.087746e-04   \n1                245                 2               50      1.275356e-04   \n2                334                 4               10      1.087746e-04   \n3                827                 5               50      1.338918e-09   \n4                245                 6               50      1.275356e-04   \n\n   config.regularization_params.dropout  \\\n0                                   0.5   \n1                                   0.5   \n2                                   0.5   \n3                                   0.5   \n4                                   0.5   \n\n   config.regularization_params.reg_scale  config.seed  result.test_acc  \\\n0                                  0.0001    430838521         0.601832   \n1                                  0.0001    917107080         0.425274   \n2                                  0.0001    295330006         0.449365   \n3                                  0.0001     65643607         0.179679   \n4                                  0.0001    328060458         0.133723   \n\n   result.test_loss  \n0          7.789576  \n1          9.888527  \n2          2.908617  \n3          6.320316  \n4          8.774114  ",
      "text/html": "<div>\n<style scoped>\n    .dataframe tbody tr th:only-of-type {\n        vertical-align: middle;\n    }\n\n    .dataframe tbody tr th {\n        vertical-align: top;\n    }\n\n    .dataframe thead th {\n        text-align: right;\n    }\n</style>\n<table border=\"1\" class=\"dataframe\">\n  <thead>\n    <tr style=\"text-align: right;\">\n      <th></th>\n      <th>_id</th>\n      <th>config.dataset</th>\n      <th>config.db_collection</th>\n      <th>config.display_step</th>\n      <th>config.hidden_sizes</th>\n      <th>config.keep_prob</th>\n      <th>config.learning_rate</th>\n      <th>config.max_epochs</th>\n      <th>config.overwrite</th>\n      <th>config.patience</th>\n      <th>config.reg_scale</th>\n      <th>config.regularization_params.dropout</th>\n      <th>config.regularization_params.reg_scale</th>\n      <th>config.seed</th>\n      <th>result.test_acc</th>\n      <th>result.test_loss</th>\n    </tr>\n  </thead>\n  <tbody>\n    <tr>\n      <th>0</th>\n      <td>1</td>\n      <td>small_dataset_1</td>\n      <td>seml_example</td>\n      <td>25</td>\n      <td>[16]</td>\n      <td>0.740696</td>\n      <td>0.00001</td>\n      <td>334</td>\n      <td>1</td>\n      <td>10</td>\n      <td>1.087746e-04</td>\n      <td>0.5</td>\n      <td>0.0001</td>\n      <td>430838521</td>\n      <td>0.601832</td>\n      <td>7.789576</td>\n    </tr>\n    <tr>\n      <th>1</th>\n      <td>2</td>\n      <td>small_dataset_1</td>\n      <td>seml_example</td>\n      <td>25</td>\n      <td>[16]</td>\n      <td>0.746743</td>\n      <td>0.00001</td>\n      <td>245</td>\n      <td>2</td>\n      <td>50</td>\n      <td>1.275356e-04</td>\n      <td>0.5</td>\n      <td>0.0001</td>\n      <td>917107080</td>\n      <td>0.425274</td>\n      <td>9.888527</td>\n    </tr>\n    <tr>\n      <th>2</th>\n      <td>4</td>\n      <td>small_dataset_1</td>\n      <td>seml_example</td>\n      <td>25</td>\n      <td>[32, 16]</td>\n      <td>0.740696</td>\n      <td>0.00001</td>\n      <td>334</td>\n      <td>4</td>\n      <td>10</td>\n      <td>1.087746e-04</td>\n      <td>0.5</td>\n      <td>0.0001</td>\n      <td>295330006</td>\n      <td>0.449365</td>\n      <td>2.908617</td>\n    </tr>\n    <tr>\n      <th>3</th>\n      <td>5</td>\n      <td>small_dataset_1</td>\n      <td>seml_example</td>\n      <td>25</td>\n      <td>[16]</td>\n      <td>0.311091</td>\n      <td>0.00001</td>\n      <td>827</td>\n      <td>5</td>\n      <td>50</td>\n      <td>1.338918e-09</td>\n      <td>0.5</td>\n      <td>0.0001</td>\n      <td>65643607</td>\n      <td>0.179679</td>\n      <td>6.320316</td>\n    </tr>\n    <tr>\n      <th>4</th>\n      <td>6</td>\n      <td>small_dataset_1</td>\n      <td>seml_example</td>\n      <td>25</td>\n      <td>[32, 16]</td>\n      <td>0.746743</td>\n      <td>0.00001</td>\n      <td>245</td>\n      <td>6</td>\n      <td>50</td>\n      <td>1.275356e-04</td>\n      <td>0.5</td>\n      <td>0.0001</td>\n      <td>328060458</td>\n      <td>0.133723</td>\n      <td>8.774114</td>\n    </tr>\n  </tbody>\n</table>\n</div>"
     },
     "metadata": {},
     "execution_count": 3
    }
   ],
   "source": [
    "results.head()"
   ]
  },
  {
   "cell_type": "code",
   "execution_count": 4,
   "metadata": {},
   "outputs": [],
   "source": [
    "# Pandas doesn't like lists as groupby keys.\n",
    "results['config.hidden_sizes'] = results['config.hidden_sizes'].astype(str)"
   ]
  },
  {
   "cell_type": "code",
   "execution_count": 5,
   "metadata": {},
   "outputs": [
    {
     "data": {
      "text/plain": [
       "config.dataset   config.hidden_sizes\n",
       "large_dataset_1  [64, 32]               4.109954\n",
       "                 [64]                   9.266628\n",
       "large_dataset_2  [64, 32]               4.087044\n",
       "                 [64]                   4.843988\n",
       "small_dataset_1  [16]                   5.210090\n",
       "                 [32, 16]               4.940274\n",
       "small_dataset_2  [16]                   4.777097\n",
       "                 [32, 16]               5.010437\n",
       "Name: result.test_loss, dtype: float64"
      ]
     },
     "execution_count": 37,
     "metadata": {},
     "execution_count": 5
    }
   ],
   "source": [
    "results.groupby(['config.dataset', 'config.hidden_sizes'])['result.test_loss'].agg('mean')"
   ]
  },
  {
   "cell_type": "code",
   "execution_count": 6,
   "metadata": {},
   "outputs": [
    {
     "data": {
      "image/png": "[encoded data removed]",
      "text/plain": [
       "<Figure size 432x288 with 1 Axes>"
      ]
     },
     "metadata": {},
     "output_type": "display_data"
    }
   ],
   "source": [
    "plt.scatter(results['result.test_acc'], results['result.test_loss'])\n",
    "plt.show()"
   ]
  }
 ],
 "metadata": {
  "kernelspec": {
   "display_name": "Python 3.7.3 64-bit",
   "language": "python",
   "name": "python37364bit9058597f1b7b476eaa274990d45fb9ee"
  },
  "language_info": {
   "codemirror_mode": {
    "name": "ipython",
    "version": 3
   },
   "file_extension": ".py",
   "mimetype": "text/x-python",
   "name": "python",
   "nbconvert_exporter": "python",
   "pygments_lexer": "ipython3",
   "version": "3.7.3-final"
  }
 },
 "nbformat": 4,
 "nbformat_minor": 4
}