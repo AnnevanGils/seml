{
 "cells": [
  {
   "cell_type": "code",
   "execution_count": 11,
   "metadata": {},
   "outputs": [],
   "source": [
    "from seml import database_utils as db_utils\n",
    "import pandas as pd\n",
    "from matplotlib import pyplot as plt"
   ]
  },
  {
   "cell_type": "code",
   "execution_count": 21,
   "metadata": {},
   "outputs": [],
   "source": [
    "results = db_utils.get_results('example_experiment', to_data_frame=True)"
   ]
  },
  {
   "cell_type": "code",
   "execution_count": 22,
   "metadata": {},
   "outputs": [
    {
     "data": {
      "text/html": [
       "<div>\n",
       "<style scoped>\n",
       "    .dataframe tbody tr th:only-of-type {\n",
       "        vertical-align: middle;\n",
       "    }\n",
       "\n",
       "    .dataframe tbody tr th {\n",
       "        vertical-align: top;\n",
       "    }\n",
       "\n",
       "    .dataframe thead th {\n",
       "        text-align: right;\n",
       "    }\n",
       "</style>\n",
       "<table border=\"1\" class=\"dataframe\">\n",
       "  <thead>\n",
       "    <tr style=\"text-align: right;\">\n",
       "      <th></th>\n",
       "      <th>_id</th>\n",
       "      <th>config.dataset</th>\n",
       "      <th>config.db_collection</th>\n",
       "      <th>config.display_step</th>\n",
       "      <th>config.hidden_sizes</th>\n",
       "      <th>config.keep_prob</th>\n",
       "      <th>config.learning_rate</th>\n",
       "      <th>config.max_epochs</th>\n",
       "      <th>config.overwrite</th>\n",
       "      <th>config.patience</th>\n",
       "      <th>config.reg_scale</th>\n",
       "      <th>config.seed</th>\n",
       "      <th>result.test_acc</th>\n",
       "      <th>result.test_loss</th>\n",
       "    </tr>\n",
       "  </thead>\n",
       "  <tbody>\n",
       "    <tr>\n",
       "      <th>0</th>\n",
       "      <td>1</td>\n",
       "      <td>small_dataset_1</td>\n",
       "      <td>example_experiment</td>\n",
       "      <td>25</td>\n",
       "      <td>[16]</td>\n",
       "      <td>0.740696</td>\n",
       "      <td>0.00001</td>\n",
       "      <td>334</td>\n",
       "      <td>1</td>\n",
       "      <td>10</td>\n",
       "      <td>1.087746e-04</td>\n",
       "      <td>815912163</td>\n",
       "      <td>2.736447</td>\n",
       "      <td>5.725189</td>\n",
       "    </tr>\n",
       "    <tr>\n",
       "      <th>1</th>\n",
       "      <td>2</td>\n",
       "      <td>small_dataset_1</td>\n",
       "      <td>example_experiment</td>\n",
       "      <td>25</td>\n",
       "      <td>[16]</td>\n",
       "      <td>0.746743</td>\n",
       "      <td>0.00001</td>\n",
       "      <td>245</td>\n",
       "      <td>2</td>\n",
       "      <td>50</td>\n",
       "      <td>1.275356e-04</td>\n",
       "      <td>164973081</td>\n",
       "      <td>0.656545</td>\n",
       "      <td>5.296356</td>\n",
       "    </tr>\n",
       "    <tr>\n",
       "      <th>2</th>\n",
       "      <td>3</td>\n",
       "      <td>small_dataset_1</td>\n",
       "      <td>example_experiment</td>\n",
       "      <td>25</td>\n",
       "      <td>[16]</td>\n",
       "      <td>0.311091</td>\n",
       "      <td>0.00001</td>\n",
       "      <td>827</td>\n",
       "      <td>3</td>\n",
       "      <td>50</td>\n",
       "      <td>1.338918e-09</td>\n",
       "      <td>36331105</td>\n",
       "      <td>-1.015286</td>\n",
       "      <td>4.071151</td>\n",
       "    </tr>\n",
       "    <tr>\n",
       "      <th>3</th>\n",
       "      <td>4</td>\n",
       "      <td>small_dataset_1</td>\n",
       "      <td>example_experiment</td>\n",
       "      <td>25</td>\n",
       "      <td>[32, 16]</td>\n",
       "      <td>0.740696</td>\n",
       "      <td>0.00001</td>\n",
       "      <td>334</td>\n",
       "      <td>4</td>\n",
       "      <td>10</td>\n",
       "      <td>1.087746e-04</td>\n",
       "      <td>5863334</td>\n",
       "      <td>0.879143</td>\n",
       "      <td>1.308891</td>\n",
       "    </tr>\n",
       "    <tr>\n",
       "      <th>4</th>\n",
       "      <td>5</td>\n",
       "      <td>small_dataset_1</td>\n",
       "      <td>example_experiment</td>\n",
       "      <td>25</td>\n",
       "      <td>[32, 16]</td>\n",
       "      <td>0.746743</td>\n",
       "      <td>0.00001</td>\n",
       "      <td>245</td>\n",
       "      <td>5</td>\n",
       "      <td>50</td>\n",
       "      <td>1.275356e-04</td>\n",
       "      <td>23880611</td>\n",
       "      <td>0.589812</td>\n",
       "      <td>7.940028</td>\n",
       "    </tr>\n",
       "  </tbody>\n",
       "</table>\n",
       "</div>"
      ],
      "text/plain": [
       "   _id   config.dataset config.db_collection  config.display_step  \\\n",
       "0    1  small_dataset_1   example_experiment                   25   \n",
       "1    2  small_dataset_1   example_experiment                   25   \n",
       "2    3  small_dataset_1   example_experiment                   25   \n",
       "3    4  small_dataset_1   example_experiment                   25   \n",
       "4    5  small_dataset_1   example_experiment                   25   \n",
       "\n",
       "  config.hidden_sizes  config.keep_prob  config.learning_rate  \\\n",
       "0                [16]          0.740696               0.00001   \n",
       "1                [16]          0.746743               0.00001   \n",
       "2                [16]          0.311091               0.00001   \n",
       "3            [32, 16]          0.740696               0.00001   \n",
       "4            [32, 16]          0.746743               0.00001   \n",
       "\n",
       "   config.max_epochs  config.overwrite  config.patience  config.reg_scale  \\\n",
       "0                334                 1               10      1.087746e-04   \n",
       "1                245                 2               50      1.275356e-04   \n",
       "2                827                 3               50      1.338918e-09   \n",
       "3                334                 4               10      1.087746e-04   \n",
       "4                245                 5               50      1.275356e-04   \n",
       "\n",
       "   config.seed  result.test_acc  result.test_loss  \n",
       "0    815912163         2.736447          5.725189  \n",
       "1    164973081         0.656545          5.296356  \n",
       "2     36331105        -1.015286          4.071151  \n",
       "3      5863334         0.879143          1.308891  \n",
       "4     23880611         0.589812          7.940028  "
      ]
     },
     "execution_count": 22,
     "metadata": {},
     "output_type": "execute_result"
    }
   ],
   "source": [
    "results.head()"
   ]
  },
  {
   "cell_type": "code",
   "execution_count": 36,
   "metadata": {},
   "outputs": [],
   "source": [
    "# Pandas doesn't like lists as groupby keys.\n",
    "results['config.hidden_sizes'] = results['config.hidden_sizes'].astype(str)"
   ]
  },
  {
   "cell_type": "code",
   "execution_count": 37,
   "metadata": {},
   "outputs": [
    {
     "data": {
      "text/plain": [
       "config.dataset   config.hidden_sizes\n",
       "large_dataset_1  [64, 32]               4.109954\n",
       "                 [64]                   9.266628\n",
       "large_dataset_2  [64, 32]               4.087044\n",
       "                 [64]                   4.843988\n",
       "small_dataset_1  [16]                   5.210090\n",
       "                 [32, 16]               4.940274\n",
       "small_dataset_2  [16]                   4.777097\n",
       "                 [32, 16]               5.010437\n",
       "Name: result.test_loss, dtype: float64"
      ]
     },
     "execution_count": 37,
     "metadata": {},
     "output_type": "execute_result"
    }
   ],
   "source": [
    "results.groupby(['config.dataset', 'config.hidden_sizes'])['result.test_loss'].agg('mean')"
   ]
  },
  {
   "cell_type": "code",
   "execution_count": 38,
   "metadata": {},
   "outputs": [
    {
     "data": {
      "image/png": "[encoded data removed]",
      "text/plain": [
       "<Figure size 432x288 with 1 Axes>"
      ]
     },
     "metadata": {},
     "output_type": "display_data"
    }
   ],
   "source": [
    "plt.scatter(results['result.test_acc'], results['result.test_loss'])\n",
    "plt.show()"
   ]
  }
 ],
 "metadata": {
  "kernelspec": {
   "display_name": "Python [conda env:tf]",
   "language": "python",
   "name": "conda-env-tf-py"
  },
  "language_info": {
   "codemirror_mode": {
    "name": "ipython",
    "version": 3
   },
   "file_extension": ".py",
   "mimetype": "text/x-python",
   "name": "python",
   "nbconvert_exporter": "python",
   "pygments_lexer": "ipython3",
   "version": "3.6.4"
  }
 },
 "nbformat": 4,
 "nbformat_minor": 4
}
