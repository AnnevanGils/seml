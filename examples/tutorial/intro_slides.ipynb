{
 "cells": [
  {
   "cell_type": "markdown",
   "metadata": {
    "slideshow": {
     "slide_type": "slide"
    }
   },
   "source": [
    "# Introduction to   \n",
    "# `SEML`: Slurm Experiment Management Library"
   ]
  },
  {
   "cell_type": "markdown",
   "metadata": {
    "slideshow": {
     "slide_type": "slide"
    }
   },
   "source": [
    "## Why `SEML`?\n",
    "\n",
    "In a nutshell, **`SEML`** enables you to leverage the massive parallelization of a compute cluster without boilerplate code or having to worry about keeping track of experiments.\n",
    "That is, it enables you to:\n",
    "* very easily define hyperparameter search spaces using YAML files,\n",
    "* run these hyperparameter configurations on a compute cluster using `Slurm`,\n",
    "* and to track the experimental results using `sacred` and `MongoDB`.\n"
   ]
  },
  {
   "cell_type": "markdown",
   "metadata": {
    "slideshow": {
     "slide_type": "slide"
    }
   },
   "source": [
    "In addition, **`SEML`** offers many more features to make your life easier, such as\n",
    "* automatically saving and loading your source code for reproducibility,\n",
    "* collecting experiment results into a `Pandas` dataframe,\n",
    "* easy debugging on Slurm or locally,\n",
    "* automatically checking your experiment configurations,\n",
    "* extending Slurm with local workers,\n",
    "* and keeping track of resource usage (experiment runtime, RAM, etc.).\n",
    "\n",
    "You can even get notified on Mattermost whenever an experiment starts, completes, or fails!"
   ]
  },
  {
   "cell_type": "markdown",
   "metadata": {
    "slideshow": {
     "slide_type": "slide"
    }
   },
   "source": [
    "## How does it work?\n",
    "<center><img src=\"./seml.pdf\"/></center>"
   ]
  },
  {
   "cell_type": "markdown",
   "metadata": {
    "slideshow": {
     "slide_type": "slide"
    }
   },
   "source": [
    "## How does it work?\n",
    "* **`SEML`** takes a `YAML` file containing hyperparameters and metadata about a set of experiments.\n",
    "* **`SEML`** stores each individual experiment's data as an entry in a `MongoDB` database collection.\n",
    "* In general, each type of experiments gets their own database collection.\n",
    "* Each individual experiment is an entry in the respective collection.\n",
    "* A database entry is essentially a `JSON` dictionary containing (among others):\n",
    "  * the state of the experiment\n",
    "  * the experiment configuration (i.e., hyperparameters),\n",
    "  * the generated results, and\n",
    "  * the cached source code (by default)."
   ]
  },
  {
   "cell_type": "markdown",
   "metadata": {
    "slideshow": {
     "slide_type": "slide"
    }
   },
   "source": [
    "## Demo workflow\n",
    "* Show example experiment (return e.g. `log(learning rate)`)\n",
    "* Show `yaml` file, play around with parameters, explain `sbatch_options`\n",
    "* add, status, start, etc, add again (adds no duplicates)\n",
    "* show `squeue`, database entries\n",
    "* Add exception to experiment\n",
    "* run again, show status, reload sources, reset, start\n",
    "* load results and plot\n",
    "* show jupyter job starting"
   ]
  },
  {
   "cell_type": "code",
   "execution_count": 1,
   "metadata": {},
   "outputs": [
    {
     "data": {
      "text/markdown": [
       "```python\n",
       "import logging\n",
       "from sacred import Experiment\n",
       "import numpy as np\n",
       "import seml\n",
       "import time\n",
       "\n",
       "ex = Experiment()\n",
       "seml.setup_logger(ex)\n",
       "\n",
       "\n",
       "@ex.config\n",
       "def config():\n",
       "    overwrite = None\n",
       "    db_collection = None\n",
       "    if db_collection is not None:\n",
       "        ex.observers.append(seml.create_mongodb_observer(db_collection, overwrite=overwrite))\n",
       "\n",
       "\n",
       "@ex.automain\n",
       "def run(hidden_sizes: list, learning_rate: float, max_epochs: int):\n",
       "    # Note that regularization_params contains the corresponding sub-dictionary from the configuration.\n",
       "    logging.info('Received the following configuration:')\n",
       "    logging.info(f'Hidden sizes: {hidden_sizes}, learning_rate: {learning_rate}, '\n",
       "                 f'max_epochs: {max_epochs}')\n",
       "    # res = hidden_sizes / 2\n",
       "    #  do your processing here\n",
       "    time.sleep(60)\n",
       "    results = {\n",
       "        'test_acc': learning_rate * np.sqrt(np.arange(1, 1001, 1)) + np.random.uniform(0, 5),\n",
       "        # ...\n",
       "    }\n",
       "    # the returned result will be written into the database\n",
       "    return results\n",
       "\n",
       "```\n"
      ],
      "text/plain": [
       "<IPython.core.display.Markdown object>"
      ]
     },
     "metadata": {},
     "output_type": "display_data"
    }
   ],
   "source": [
    "from IPython.display import display, Markdown\n",
    "with open('example_experiment.py', 'r') as f:\n",
    "    code = f.read()\n",
    "display(Markdown(f'''```python\n",
    "{code}\n",
    "```\n",
    "'''\n",
    "                ))"
   ]
  },
  {
   "cell_type": "code",
   "execution_count": 2,
   "metadata": {},
   "outputs": [
    {
     "data": {
      "text/markdown": [
       "```yaml\n",
       "seml:\n",
       "  executable: examples/tutorial/example_experiment.py\n",
       "  name: example_experiment\n",
       "  output_dir: examples/logs\n",
       "  project_root_dir: ../..\n",
       "\n",
       "slurm:\n",
       "  experiments_per_job: 1\n",
       "  sbatch_options:\n",
       "    gres: gpu:1       # num GPUs\n",
       "    mem: 16G          # memory\n",
       "    cpus-per-task: 2  # num cores\n",
       "    time: 0-08:00     # max time, D-HH:MM\n",
       "\n",
       "fixed:\n",
       "  max_epochs: 500\n",
       "\n",
       "grid:\n",
       "  learning_rate:\n",
       "    type: choice\n",
       "    options:\n",
       "      - 1\n",
       "      - 2\n",
       "      - 3\n",
       "\n",
       "small_datasets:\n",
       "  fixed:\n",
       "    hidden_sizes: [32, 16] # this will be parsed into a Python list.\n",
       "\n",
       "large_datasets:\n",
       "\n",
       "  fixed:\n",
       "    hidden_sizes: [128, 64, 32]\n",
       "\n",
       "```\n"
      ],
      "text/plain": [
       "<IPython.core.display.Markdown object>"
      ]
     },
     "metadata": {},
     "output_type": "display_data"
    }
   ],
   "source": [
    "with open('example_config.yaml', 'r') as f:\n",
    "    config = f.read()\n",
    "display(Markdown(f'''```yaml\n",
    "{config}\n",
    "```\n",
    "'''))"
   ]
  },
  {
   "cell_type": "code",
   "execution_count": 3,
   "metadata": {},
   "outputs": [
    {
     "name": "stdout",
     "output_type": "stream",
     "text": [
      "Adding 6 configs to the database (batch-ID 1).\n"
     ]
    }
   ],
   "source": [
    "! seml seml_tutorial add example_config.yaml"
   ]
  },
  {
   "cell_type": "code",
   "execution_count": 4,
   "metadata": {},
   "outputs": [
    {
     "name": "stdout",
     "output_type": "stream",
     "text": [
      "********** Report for database collection 'seml_tutorial' **********\n",
      "*     -   6 staged experiments\n",
      "*     -   0 pending experiments\n",
      "*     -   0 running experiments\n",
      "*     -   0 completed experiments\n",
      "*     -   0 interrupted experiments\n",
      "*     -   0 failed experiments\n",
      "*     -   0 killed experiments\n",
      "********************************************************************\n"
     ]
    }
   ],
   "source": [
    "! seml seml_tutorial status"
   ]
  },
  {
   "cell_type": "code",
   "execution_count": 5,
   "metadata": {},
   "outputs": [
    {
     "name": "stdout",
     "output_type": "stream",
     "text": [
      "Starting 6 experiments in 6 Slurm jobs in 1 Slurm job array.\n"
     ]
    }
   ],
   "source": [
    "! seml seml_tutorial start"
   ]
  },
  {
   "cell_type": "code",
   "execution_count": 18,
   "metadata": {},
   "outputs": [
    {
     "name": "stdout",
     "output_type": "stream",
     "text": [
      "             JOBID PARTITION     NAME     USER ST       TIME  NODES NODELIST(REASON) \n",
      "         6536919_0   gpu_all example_ zuegnerd  R       1:01      1 gpu13 \n",
      "         6536919_1   gpu_all example_ zuegnerd  R       1:01      1 gpu13 \n",
      "         6536919_2   gpu_all example_ zuegnerd  R       1:01      1 gpu13 \n",
      "         6536919_3   gpu_all example_ zuegnerd  R       1:01      1 gpu13 \n",
      "         6536919_4   gpu_all example_ zuegnerd  R       1:01      1 gpu16 \n",
      "         6536919_5   gpu_all example_ zuegnerd  R       1:01      1 gpu17 \n"
     ]
    }
   ],
   "source": [
    "!squeue -u $(whoami)"
   ]
  },
  {
   "cell_type": "code",
   "execution_count": 21,
   "metadata": {},
   "outputs": [
    {
     "name": "stdout",
     "output_type": "stream",
     "text": [
      "********** Report for database collection 'seml_tutorial' **********\n",
      "*     -   0 staged experiments\n",
      "*     -   0 pending experiments\n",
      "*     -   0 running experiments\n",
      "*     -   6 completed experiments\n",
      "*     -   0 interrupted experiments\n",
      "*     -   0 failed experiments\n",
      "*     -   0 killed experiments\n",
      "********************************************************************\n"
     ]
    }
   ],
   "source": [
    "! seml seml_tutorial status"
   ]
  },
  {
   "cell_type": "code",
   "execution_count": 111,
   "metadata": {},
   "outputs": [
    {
     "name": "stdout",
     "output_type": "stream",
     "text": [
      "Resetting the state of 6 experiments.\n"
     ]
    }
   ],
   "source": [
    "! seml seml_tutorial reset -s COMPLETED"
   ]
  },
  {
   "cell_type": "code",
   "execution_count": null,
   "metadata": {},
   "outputs": [
    {
     "name": "stdout",
     "output_type": "stream",
     "text": [
      "Deleting 12 configurations from database collection. Are you sure? (y/n) "
     ]
    }
   ],
   "source": [
    "! seml seml_tutorial delete -s STAGED"
   ]
  },
  {
   "cell_type": "code",
   "execution_count": 69,
   "metadata": {},
   "outputs": [
    {
     "name": "stdout",
     "output_type": "stream",
     "text": [
      "Batch 1: Successfully reloaded source code.\n"
     ]
    }
   ],
   "source": [
    "! seml seml_tutorial reload-sources"
   ]
  },
  {
   "cell_type": "code",
   "execution_count": 23,
   "metadata": {},
   "outputs": [
    {
     "name": "stderr",
     "output_type": "stream",
     "text": [
      "/nfs/homedirs/zuegnerd/libraries/seml/seml/database.py:5: TqdmExperimentalWarning: Using `tqdm.autonotebook.tqdm` in notebook mode. Use `tqdm.tqdm` instead to force console mode (e.g. in jupyter console)\n",
      "  from tqdm.autonotebook import tqdm\n"
     ]
    }
   ],
   "source": [
    "import seml\n",
    "import pandas as pd\n",
    "from matplotlib import pyplot as plt"
   ]
  },
  {
   "cell_type": "code",
   "execution_count": 24,
   "metadata": {},
   "outputs": [
    {
     "data": {
      "application/vnd.jupyter.widget-view+json": {
       "model_id": "14242d675648456f9cd3fdad2acd93c0",
       "version_major": 2,
       "version_minor": 0
      },
      "text/plain": [
       "  0%|          | 0/6 [00:00<?, ?it/s]"
      ]
     },
     "metadata": {},
     "output_type": "display_data"
    },
    {
     "data": {
      "application/vnd.jupyter.widget-view+json": {
       "model_id": "ff9bd24d91f54875bb4c4ef8def4e14d",
       "version_major": 2,
       "version_minor": 0
      },
      "text/plain": [
       "  0%|          | 0/6 [00:00<?, ?it/s]"
      ]
     },
     "metadata": {},
     "output_type": "display_data"
    },
    {
     "name": "stderr",
     "output_type": "stream",
     "text": [
      "/nfs/homedirs/zuegnerd/libraries/seml/seml/evaluation.py:80: FutureWarning: pandas.io.json.json_normalize is deprecated, use pandas.json_normalize instead\n",
      "  parsed = pd.io.json.json_normalize(parsed, sep='.')\n"
     ]
    },
    {
     "data": {
      "text/html": [
       "<div>\n",
       "<style scoped>\n",
       "    .dataframe tbody tr th:only-of-type {\n",
       "        vertical-align: middle;\n",
       "    }\n",
       "\n",
       "    .dataframe tbody tr th {\n",
       "        vertical-align: top;\n",
       "    }\n",
       "\n",
       "    .dataframe thead th {\n",
       "        text-align: right;\n",
       "    }\n",
       "</style>\n",
       "<table border=\"1\" class=\"dataframe\">\n",
       "  <thead>\n",
       "    <tr style=\"text-align: right;\">\n",
       "      <th></th>\n",
       "      <th>_id</th>\n",
       "      <th>config.db_collection</th>\n",
       "      <th>config.hidden_sizes</th>\n",
       "      <th>config.learning_rate</th>\n",
       "      <th>config.max_epochs</th>\n",
       "      <th>config.overwrite</th>\n",
       "      <th>config.seed</th>\n",
       "      <th>result.test_acc</th>\n",
       "    </tr>\n",
       "  </thead>\n",
       "  <tbody>\n",
       "    <tr>\n",
       "      <th>0</th>\n",
       "      <td>1</td>\n",
       "      <td>seml_tutorial</td>\n",
       "      <td>[32, 16]</td>\n",
       "      <td>1</td>\n",
       "      <td>500</td>\n",
       "      <td>1</td>\n",
       "      <td>773417433</td>\n",
       "      <td>[1.3638720320847315, 1.7780855944578269, 2.095...</td>\n",
       "    </tr>\n",
       "    <tr>\n",
       "      <th>1</th>\n",
       "      <td>2</td>\n",
       "      <td>seml_tutorial</td>\n",
       "      <td>[32, 16]</td>\n",
       "      <td>2</td>\n",
       "      <td>500</td>\n",
       "      <td>2</td>\n",
       "      <td>478497674</td>\n",
       "      <td>[4.046287510486002, 4.874714635232193, 5.51038...</td>\n",
       "    </tr>\n",
       "    <tr>\n",
       "      <th>2</th>\n",
       "      <td>3</td>\n",
       "      <td>seml_tutorial</td>\n",
       "      <td>[32, 16]</td>\n",
       "      <td>3</td>\n",
       "      <td>500</td>\n",
       "      <td>3</td>\n",
       "      <td>638400847</td>\n",
       "      <td>[3.407779317848727, 4.650420004968013, 5.60393...</td>\n",
       "    </tr>\n",
       "    <tr>\n",
       "      <th>3</th>\n",
       "      <td>4</td>\n",
       "      <td>seml_tutorial</td>\n",
       "      <td>[128, 64, 32]</td>\n",
       "      <td>1</td>\n",
       "      <td>500</td>\n",
       "      <td>4</td>\n",
       "      <td>137588650</td>\n",
       "      <td>[2.848913698970171, 3.263127261343266, 3.58096...</td>\n",
       "    </tr>\n",
       "    <tr>\n",
       "      <th>4</th>\n",
       "      <td>5</td>\n",
       "      <td>seml_tutorial</td>\n",
       "      <td>[128, 64, 32]</td>\n",
       "      <td>2</td>\n",
       "      <td>500</td>\n",
       "      <td>5</td>\n",
       "      <td>368298182</td>\n",
       "      <td>[5.031346406286642, 5.8597735310328325, 6.4954...</td>\n",
       "    </tr>\n",
       "    <tr>\n",
       "      <th>5</th>\n",
       "      <td>6</td>\n",
       "      <td>seml_tutorial</td>\n",
       "      <td>[128, 64, 32]</td>\n",
       "      <td>3</td>\n",
       "      <td>500</td>\n",
       "      <td>6</td>\n",
       "      <td>996647621</td>\n",
       "      <td>[7.531727008696128, 8.774367695815414, 9.72787...</td>\n",
       "    </tr>\n",
       "  </tbody>\n",
       "</table>\n",
       "</div>"
      ],
      "text/plain": [
       "   _id config.db_collection config.hidden_sizes  config.learning_rate  \\\n",
       "0    1        seml_tutorial            [32, 16]                     1   \n",
       "1    2        seml_tutorial            [32, 16]                     2   \n",
       "2    3        seml_tutorial            [32, 16]                     3   \n",
       "3    4        seml_tutorial       [128, 64, 32]                     1   \n",
       "4    5        seml_tutorial       [128, 64, 32]                     2   \n",
       "5    6        seml_tutorial       [128, 64, 32]                     3   \n",
       "\n",
       "   config.max_epochs  config.overwrite  config.seed  \\\n",
       "0                500                 1    773417433   \n",
       "1                500                 2    478497674   \n",
       "2                500                 3    638400847   \n",
       "3                500                 4    137588650   \n",
       "4                500                 5    368298182   \n",
       "5                500                 6    996647621   \n",
       "\n",
       "                                     result.test_acc  \n",
       "0  [1.3638720320847315, 1.7780855944578269, 2.095...  \n",
       "1  [4.046287510486002, 4.874714635232193, 5.51038...  \n",
       "2  [3.407779317848727, 4.650420004968013, 5.60393...  \n",
       "3  [2.848913698970171, 3.263127261343266, 3.58096...  \n",
       "4  [5.031346406286642, 5.8597735310328325, 6.4954...  \n",
       "5  [7.531727008696128, 8.774367695815414, 9.72787...  "
      ]
     },
     "execution_count": 24,
     "metadata": {},
     "output_type": "execute_result"
    }
   ],
   "source": [
    "results = seml.get_results('seml_tutorial', to_data_frame=True)\n",
    "results"
   ]
  },
  {
   "cell_type": "code",
   "execution_count": 25,
   "metadata": {},
   "outputs": [
    {
     "data": {
      "image/png": "[encoded data removed]",
      "text/plain": [
       "<Figure size 432x288 with 1 Axes>"
      ]
     },
     "metadata": {
      "needs_background": "light"
     },
     "output_type": "display_data"
    }
   ],
   "source": [
    "for i, exp in results.iterrows():\n",
    "    plt.plot(exp['result.test_acc'], label=f'{exp[\"config.hidden_sizes\"]} {exp[\"config.learning_rate\"]}')\n",
    "plt.legend()\n",
    "plt.show()"
   ]
  },
  {
   "cell_type": "code",
   "execution_count": 26,
   "metadata": {},
   "outputs": [
    {
     "name": "stdout",
     "output_type": "stream",
     "text": [
      "Queued Jupyter instance in Slurm job with ID 6536925.\n",
      "The job's log-file is '/nfs/homedirs/zuegnerd/libraries/seml/examples/tutorial/jupyter-6536925.out'.\n",
      "Waiting for start-up to fetch the machine and port of the Jupyter instance... (ctrl-C to cancel fetching)\n",
      "Slurm job is running. Jupyter instance is starting up...\n",
      "Start-up completed. The Jupyter instance is running at 'gpu13.kdd.in.tum.de:8888'.\n",
      "To stop the job, run 'scancel 6536925'.\n"
     ]
    }
   ],
   "source": [
    "! seml jupyter"
   ]
  },
  {
   "cell_type": "code",
   "execution_count": 27,
   "metadata": {},
   "outputs": [],
   "source": [
    "! scancel 6536925"
   ]
  }
 ],
 "metadata": {
  "celltoolbar": "Slideshow",
  "kernelspec": {
   "display_name": "Python 3 (ipykernel)",
   "language": "python",
   "name": "python3"
  },
  "language_info": {
   "codemirror_mode": {
    "name": "ipython",
    "version": 3
   },
   "file_extension": ".py",
   "mimetype": "text/x-python",
   "name": "python",
   "nbconvert_exporter": "python",
   "pygments_lexer": "ipython3",
   "version": "3.8.1"
  }
 },
 "nbformat": 4,
 "nbformat_minor": 4
}
